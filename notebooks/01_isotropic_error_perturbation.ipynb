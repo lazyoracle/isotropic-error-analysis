{
 "cells": [
  {
   "cell_type": "markdown",
   "id": "c9f41725",
   "metadata": {},
   "source": [
    "# Isotropic Error Perturbation\n",
    "\n",
    "In this notebook, we see the effect of adding isotropic errors to a given quantum statevector. We quantify the effect of the perturbation by measuring the overlap fidelity between the original state (an equal superposition of computational basis states) and the final state (after adding the isotropic error). We then compare the fidelities for different values of $\\sigma$."
   ]
  },
  {
   "cell_type": "markdown",
   "id": "67e20480",
   "metadata": {},
   "source": [
    "## Imports"
   ]
  },
  {
   "cell_type": "code",
   "execution_count": null,
   "id": "9cd270d6",
   "metadata": {},
   "outputs": [],
   "source": [
    "import jax\n",
    "import jax.numpy as jnp\n",
    "import matplotlib.pyplot as plt\n",
    "\n",
    "from isotropic.e2 import F_j, get_e2_coeffs\n",
    "from isotropic.orthonormal import get_orthonormal_basis\n",
    "from isotropic.thetazero import get_theta_zero\n",
    "from isotropic.utils.distribution import normal_integrand\n",
    "from isotropic.utils.state_transforms import (\n",
    "    add_isotropic_error,\n",
    "    hypersphere_to_statevector,\n",
    "    statevector_to_hypersphere,\n",
    ")\n",
    "from joblib import Parallel, delayed"
   ]
  },
  {
   "cell_type": "markdown",
   "id": "40e43743",
   "metadata": {},
   "source": [
    "## Initial values & one-time computations"
   ]
  },
  {
   "cell_type": "code",
   "execution_count": null,
   "id": "86259315",
   "metadata": {},
   "outputs": [],
   "source": [
    "Phi_original = jnp.ones(16, dtype=complex)\n",
    "Phi_original = Phi_original / jnp.linalg.norm(Phi_original)\n",
    "Phi_spherical = statevector_to_hypersphere(Phi_original)\n",
    "basis = get_orthonormal_basis(Phi_spherical)  # gives d vectors with d+1 elements each\n",
    "_, coeffs = get_e2_coeffs(\n",
    "    d=basis.shape[0],  # gives d coefficients for the d vectors above\n",
    "    F_j=F_j,\n",
    "    key=jax.random.PRNGKey(0),\n",
    ")\n",
    "e2 = jnp.expand_dims(coeffs, axis=-1) * basis"
   ]
  },
  {
   "cell_type": "markdown",
   "id": "24133358",
   "metadata": {},
   "source": [
    "## Helper functions\n",
    "\n",
    "### Generate a perturbed state"
   ]
  },
  {
   "cell_type": "code",
   "execution_count": null,
   "id": "30cfe587",
   "metadata": {},
   "outputs": [],
   "source": [
    "def get_perturbed_state(sigma: float = 0.9) -> jnp.ndarray:\n",
    "    def g(theta):\n",
    "        return normal_integrand(theta, d=Phi_spherical.shape[0], sigma=sigma)\n",
    "\n",
    "    theta_zero = get_theta_zero(x=0.5, g=g)\n",
    "    Psi_spherical = add_isotropic_error(Phi_spherical, e2=e2, theta_zero=theta_zero)\n",
    "    Psi = hypersphere_to_statevector(Psi_spherical)\n",
    "    return Psi"
   ]
  },
  {
   "cell_type": "markdown",
   "id": "c55cf3ba",
   "metadata": {},
   "source": [
    "### Calculate Fidelity"
   ]
  },
  {
   "cell_type": "code",
   "execution_count": null,
   "id": "798b005e",
   "metadata": {},
   "outputs": [],
   "source": [
    "def get_fidelity(sigma: float = 0.9) -> float:\n",
    "    Psi = get_perturbed_state(sigma=sigma)\n",
    "    fidelity = jnp.abs(jnp.vdot(Phi_original, Psi)) ** 2\n",
    "    return fidelity"
   ]
  },
  {
   "cell_type": "markdown",
   "id": "87bde394",
   "metadata": {},
   "source": [
    "## Final results"
   ]
  },
  {
   "cell_type": "code",
   "execution_count": null,
   "id": "8af76fbe",
   "metadata": {},
   "outputs": [],
   "source": [
    "sigmas = jnp.linspace(0.9, 0.99, 100)\n",
    "fidelities = Parallel(n_jobs=4)(delayed(get_fidelity)(sigma) for sigma in sigmas)"
   ]
  },
  {
   "cell_type": "code",
   "execution_count": null,
   "id": "45a141e8",
   "metadata": {},
   "outputs": [],
   "source": [
    "plt.plot(sigmas, fidelities)\n",
    "plt.xlabel(\"Sigma\")\n",
    "plt.ylabel(\"Fidelity\")\n",
    "plt.show()"
   ]
  }
 ],
 "metadata": {
  "kernelspec": {
   "display_name": ".venv",
   "language": "python",
   "name": "python3"
  },
  "language_info": {
   "codemirror_mode": {
    "name": "ipython",
    "version": 3
   },
   "file_extension": ".py",
   "mimetype": "text/x-python",
   "name": "python",
   "nbconvert_exporter": "python",
   "pygments_lexer": "ipython3",
   "version": "3.11.13"
  }
 },
 "nbformat": 4,
 "nbformat_minor": 5
}
